{
 "cells": [
  {
   "cell_type": "code",
   "execution_count": 1,
   "metadata": {},
   "outputs": [],
   "source": [
    "import fastf1 as ff1\n",
    "import pandas as pd\n",
    "import matplotlib.pyplot as plt\n",
    "from fastf1 import plotting"
   ]
  },
  {
   "cell_type": "code",
   "execution_count": 2,
   "metadata": {},
   "outputs": [],
   "source": [
    "ff1.Cache.enable_cache('/Users/bartosz/Data Projects/f1_analysis/Data/Detailed_Positional_Data_(2018-current)')\n"
   ]
  },
  {
   "cell_type": "code",
   "execution_count": 3,
   "metadata": {},
   "outputs": [],
   "source": [
    "session = ff1.get_session(2025, \"Australia\", \"R\")"
   ]
  },
  {
   "cell_type": "code",
   "execution_count": 4,
   "metadata": {},
   "outputs": [
    {
     "name": "stderr",
     "output_type": "stream",
     "text": [
      "core           INFO \tLoading data for Australian Grand Prix - Race [v3.5.3]\n",
      "req            INFO \tUsing cached data for session_info\n",
      "req            INFO \tUsing cached data for driver_info\n",
      "req            INFO \tUsing cached data for session_status_data\n",
      "req            INFO \tUsing cached data for lap_count\n",
      "req            INFO \tUsing cached data for track_status_data\n",
      "req            INFO \tUsing cached data for _extended_timing_data\n",
      "req            INFO \tUsing cached data for timing_app_data\n",
      "core           INFO \tProcessing timing data...\n",
      "req            INFO \tUsing cached data for car_data\n",
      "req            INFO \tUsing cached data for position_data\n",
      "req            INFO \tUsing cached data for weather_data\n",
      "req            INFO \tUsing cached data for race_control_messages\n",
      "core           INFO \tFinished loading data for 20 drivers: ['4', '1', '63', '12', '23', '18', '27', '16', '81', '44', '10', '22', '31', '87', '30', '5', '14', '55', '7', '6']\n"
     ]
    }
   ],
   "source": [
    "session.load()"
   ]
  },
  {
   "cell_type": "code",
   "execution_count": 9,
   "metadata": {},
   "outputs": [
    {
     "name": "stderr",
     "output_type": "stream",
     "text": [
      "/Users/bartosz/anaconda3/lib/python3.11/site-packages/fastf1/core.py:3067: FutureWarning: pick_driver is deprecated and will be removed in a future release. Use pick_drivers instead.\n",
      "  warnings.warn((\"pick_driver is deprecated and will be removed\"\n"
     ]
    },
    {
     "data": {
      "text/plain": [
       "Timedelta('0 days 00:01:23.081000')"
      ]
     },
     "execution_count": 9,
     "metadata": {},
     "output_type": "execute_result"
    }
   ],
   "source": [
    "session.laps.pick_driver(\"VER\").pick_fastest()[\"LapTime\"]"
   ]
  },
  {
   "cell_type": "code",
   "execution_count": 8,
   "metadata": {},
   "outputs": [],
   "source": [
    "def format_lap_time(seconds: float) -> str:\n",
    "    # Ensure that seconds is a float\n",
    "    if isinstance(seconds, pd.Timedelta):\n",
    "        seconds = seconds.total_seconds()\n",
    "    elif not isinstance(seconds, (int, float)):\n",
    "        raise ValueError(\"Expected seconds to be a number or Timedelta\")\n",
    "\n",
    "    minutes = int(seconds // 60)\n",
    "    seconds = seconds % 60\n",
    "    milliseconds = int((seconds % 1) * 1000)\n",
    "    return f\"{minutes:01}:{int(seconds):02}.{milliseconds:03}\""
   ]
  },
  {
   "cell_type": "code",
   "execution_count": 14,
   "metadata": {},
   "outputs": [
    {
     "data": {
      "text/plain": [
       "'1:59.391'"
      ]
     },
     "execution_count": 14,
     "metadata": {},
     "output_type": "execute_result"
    }
   ],
   "source": [
    "format_lap_time(session.laps.pick_drivers(\"VER\").pick_laps(1)[\"LapTime\"].iloc[0])"
   ]
  },
  {
   "cell_type": "code",
   "execution_count": 15,
   "metadata": {},
   "outputs": [
    {
     "data": {
      "text/plain": [
       "['4',\n",
       " '1',\n",
       " '63',\n",
       " '12',\n",
       " '23',\n",
       " '18',\n",
       " '27',\n",
       " '16',\n",
       " '81',\n",
       " '44',\n",
       " '10',\n",
       " '22',\n",
       " '31',\n",
       " '87',\n",
       " '30',\n",
       " '5',\n",
       " '14',\n",
       " '55',\n",
       " '7',\n",
       " '6']"
      ]
     },
     "execution_count": 15,
     "metadata": {},
     "output_type": "execute_result"
    }
   ],
   "source": [
    "session.drivers"
   ]
  },
  {
   "cell_type": "code",
   "execution_count": 16,
   "metadata": {},
   "outputs": [
    {
     "name": "stderr",
     "output_type": "stream",
     "text": [
      "req            INFO \tUsing cached data for driver_info\n"
     ]
    },
    {
     "data": {
      "text/plain": [
       "['VER',\n",
       " 'LAW',\n",
       " 'GAS',\n",
       " 'DOO',\n",
       " 'ANT',\n",
       " 'RUS',\n",
       " 'ALO',\n",
       " 'STR',\n",
       " 'LEC',\n",
       " 'HAM',\n",
       " 'TSU',\n",
       " 'HAD',\n",
       " 'ALB',\n",
       " 'SAI',\n",
       " 'HUL',\n",
       " 'BOR',\n",
       " 'OCO',\n",
       " 'BEA',\n",
       " 'NOR',\n",
       " 'PIA']"
      ]
     },
     "execution_count": 16,
     "metadata": {},
     "output_type": "execute_result"
    }
   ],
   "source": [
    "ff1.plotting.list_driver_abbreviations(session)"
   ]
  },
  {
   "cell_type": "code",
   "execution_count": 22,
   "metadata": {},
   "outputs": [
    {
     "data": {
      "text/plain": [
       "['NOR',\n",
       " 'VER',\n",
       " 'RUS',\n",
       " 'ANT',\n",
       " 'ALB',\n",
       " 'STR',\n",
       " 'HUL',\n",
       " 'LEC',\n",
       " 'PIA',\n",
       " 'HAM',\n",
       " 'GAS',\n",
       " 'TSU',\n",
       " 'OCO',\n",
       " 'BEA',\n",
       " 'LAW',\n",
       " 'BOR',\n",
       " 'ALO',\n",
       " 'SAI',\n",
       " 'DOO',\n",
       " 'HAD']"
      ]
     },
     "execution_count": 22,
     "metadata": {},
     "output_type": "execute_result"
    }
   ],
   "source": [
    "drivers = [driver for driver in session.results['Abbreviation']]\n",
    "drivers"
   ]
  },
  {
   "cell_type": "code",
   "execution_count": null,
   "metadata": {},
   "outputs": [],
   "source": []
  }
 ],
 "metadata": {
  "kernelspec": {
   "display_name": "base",
   "language": "python",
   "name": "python3"
  },
  "language_info": {
   "codemirror_mode": {
    "name": "ipython",
    "version": 3
   },
   "file_extension": ".py",
   "mimetype": "text/x-python",
   "name": "python",
   "nbconvert_exporter": "python",
   "pygments_lexer": "ipython3",
   "version": "3.11.10"
  }
 },
 "nbformat": 4,
 "nbformat_minor": 2
}
